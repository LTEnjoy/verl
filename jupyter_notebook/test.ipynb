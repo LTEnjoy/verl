{
 "cells": [
  {
   "cell_type": "code",
   "execution_count": 3,
   "id": "initial_id",
   "metadata": {
    "collapsed": true,
    "ExecuteTime": {
     "end_time": "2025-04-29T09:26:12.626058200Z",
     "start_time": "2025-04-29T09:26:08.089007500Z"
    }
   },
   "outputs": [
    {
     "name": "stderr",
     "output_type": "stream",
     "text": [
      "/root/miniconda3/envs/verl/lib/python3.10/site-packages/tqdm/auto.py:21: TqdmWarning: IProgress not found. Please update jupyter and ipywidgets. See https://ipywidgets.readthedocs.io/en/stable/user_install.html\n",
      "  from .autonotebook import tqdm as notebook_tqdm\n",
      "2025-04-29 09:26:10,249\tINFO util.py:154 -- Missing packages: ['ipywidgets']. Run `pip install -U ipywidgets`, then restart the notebook server for rich notebook output.\n"
     ]
    }
   ],
   "source": [
    "%load_ext autoreload\n",
    "%autoreload 2\n",
    "\n",
    "import sys\n",
    "sys.path.append(\"/sujin/PycharmProjects/verl\")\n",
    "\n",
    "import yaml\n",
    "\n",
    "from verl.utils.dataset import SFTDataset"
   ]
  },
  {
   "cell_type": "code",
   "outputs": [],
   "source": [
    "config_path = \"/sujin/PycharmProjects/verl/verl/trainer/config/sft_trainer.yaml\"\n",
    "with open(config_path, \"r\") as f:\n",
    "    config = yaml.safe_load(f)[\"data\"]\n",
    "\n",
    "parquet_files = \"/sujin/PycharmProjects/verl/data/gsm8k/train.parquet\"\n",
    "tokenizer = \"/sujin/Models/Qwen/Qwen2.5-0.5B-Instruct\"\n",
    "\n",
    "dataset = SFTDataset(parquet_files, tokenizer, config)"
   ],
   "metadata": {
    "collapsed": false,
    "ExecuteTime": {
     "end_time": "2025-04-29T09:26:20.817247900Z",
     "start_time": "2025-04-29T09:26:20.194830Z"
    }
   },
   "id": "659b170416f967b2",
   "execution_count": 4
  },
  {
   "cell_type": "code",
   "outputs": [
    {
     "name": "stdout",
     "output_type": "stream",
     "text": [
      "{%- if tools %}\n",
      "    {{- '<|im_start|>system\\n' }}\n",
      "    {%- if messages[0]['role'] == 'system' %}\n",
      "        {{- messages[0]['content'] }}\n",
      "    {%- else %}\n",
      "        {{- 'You are Qwen, created by Alibaba Cloud. You are a helpful assistant.' }}\n",
      "    {%- endif %}\n",
      "    {{- \"\\n\\n# Tools\\n\\nYou may call one or more functions to assist with the user query.\\n\\nYou are provided with function signatures within <tools></tools> XML tags:\\n<tools>\" }}\n",
      "    {%- for tool in tools %}\n",
      "        {{- \"\\n\" }}\n",
      "        {{- tool | tojson }}\n",
      "    {%- endfor %}\n",
      "    {{- \"\\n</tools>\\n\\nFor each function call, return a json object with function name and arguments within <tool_call></tool_call> XML tags:\\n<tool_call>\\n{\\\"name\\\": <function-name>, \\\"arguments\\\": <args-json-object>}\\n</tool_call><|im_end|>\\n\" }}\n",
      "{%- else %}\n",
      "    {%- if messages[0]['role'] == 'system' %}\n",
      "        {{- '<|im_start|>system\\n' + messages[0]['content'] + '<|im_end|>\\n' }}\n",
      "    {%- else %}\n",
      "        {{- '<|im_start|>system\\nYou are Qwen, created by Alibaba Cloud. You are a helpful assistant.<|im_end|>\\n' }}\n",
      "    {%- endif %}\n",
      "{%- endif %}\n",
      "{%- for message in messages %}\n",
      "    {%- if (message.role == \"user\") or (message.role == \"system\" and not loop.first) or (message.role == \"assistant\" and not message.tool_calls) %}\n",
      "        {{- '<|im_start|>' + message.role + '\\n' + message.content + '<|im_end|>' + '\\n' }}\n",
      "    {%- elif message.role == \"assistant\" %}\n",
      "        {{- '<|im_start|>' + message.role }}\n",
      "        {%- if message.content %}\n",
      "            {{- '\\n' + message.content }}\n",
      "        {%- endif %}\n",
      "        {%- for tool_call in message.tool_calls %}\n",
      "            {%- if tool_call.function is defined %}\n",
      "                {%- set tool_call = tool_call.function %}\n",
      "            {%- endif %}\n",
      "            {{- '\\n<tool_call>\\n{\"name\": \"' }}\n",
      "            {{- tool_call.name }}\n",
      "            {{- '\", \"arguments\": ' }}\n",
      "            {{- tool_call.arguments | tojson }}\n",
      "            {{- '}\\n</tool_call>' }}\n",
      "        {%- endfor %}\n",
      "        {{- '<|im_end|>\\n' }}\n",
      "    {%- elif message.role == \"tool\" %}\n",
      "        {%- if (loop.index0 == 0) or (messages[loop.index0 - 1].role != \"tool\") %}\n",
      "            {{- '<|im_start|>user' }}\n",
      "        {%- endif %}\n",
      "        {{- '\\n<tool_response>\\n' }}\n",
      "        {{- message.content }}\n",
      "        {{- '\\n</tool_response>' }}\n",
      "        {%- if loop.last or (messages[loop.index0 + 1].role != \"tool\") %}\n",
      "            {{- '<|im_end|>\\n' }}\n",
      "        {%- endif %}\n",
      "    {%- endif %}\n",
      "{%- endfor %}\n",
      "{%- if add_generation_prompt %}\n",
      "    {{- '<|im_start|>assistant\\n' }}\n",
      "{%- endif %}\n"
     ]
    }
   ],
   "source": [
    "# data = dataset.__getitem__(2)\n",
    "# for k, v in data.items():\n",
    "#     # print(f\"{k}: {v.shape}\")\n",
    "#     pass\n",
    "print(dataset.tokenizer.chat_template)"
   ],
   "metadata": {
    "collapsed": false,
    "ExecuteTime": {
     "end_time": "2025-04-29T09:28:42.708009100Z",
     "start_time": "2025-04-29T09:28:42.656819600Z"
    }
   },
   "id": "974fbcabd949dae0",
   "execution_count": 7
  },
  {
   "cell_type": "markdown",
   "source": [
    "# Training effect evaluation"
   ],
   "metadata": {
    "collapsed": false
   },
   "id": "db8c2d490a02d1fb"
  },
  {
   "cell_type": "code",
   "outputs": [
    {
     "name": "stderr",
     "output_type": "stream",
     "text": [
      "Sliding Window Attention is enabled but not implemented for `sdpa`; unexpected results may be encountered.\n"
     ]
    }
   ],
   "source": [
    "from transformers import AutoModelForCausalLM, AutoTokenizer\n",
    "\n",
    "model_name = \"/sujin/Models/Qwen/Qwen2.5-0.5B-Instruct\"\n",
    "\n",
    "model = AutoModelForCausalLM.from_pretrained(\n",
    "    model_name,\n",
    "    torch_dtype=\"auto\",\n",
    "    device_map=\"auto\"\n",
    ")\n",
    "tokenizer = AutoTokenizer.from_pretrained(model_name)"
   ],
   "metadata": {
    "collapsed": false,
    "ExecuteTime": {
     "end_time": "2025-04-30T01:31:02.003179100Z",
     "start_time": "2025-04-30T01:31:00.106745700Z"
    }
   },
   "id": "366e259b7bb6b5b5",
   "execution_count": 8
  },
  {
   "cell_type": "code",
   "outputs": [
    {
     "name": "stdout",
     "output_type": "stream",
     "text": [
      "To determine how far John is from his home at the end of the 4 hours, we need to calculate his total distance traveled and subtract this from his starting point.\n",
      "\n",
      "1. **Calculate the distance driven on the way to home:**\n",
      "   - Distance = Speed × Time\n",
      "   - Distance = \\( 60 \\text{ mph} \\times 3 \\text{ hours} = 180 \\text{ miles} \\)\n",
      "\n",
      "2. **Calculate the distance driven during the second part of the journey:**\n",
      "   - Time spent in standstill traffic = 2 hours\n",
      "   - Distance = Speed × Time\n",
      "   - Distance = \\( 30 \\text{ mph} \\times 2 \\text{ hours} = 60 \\text{ miles} \\)\n",
      "   - Total distance so far (including standstill) = \\( 180 \\text{ miles} + 60 \\text{ miles} = 240 \\text{ miles} \\)\n",
      "\n",
      "3. **Calculate the distance driven while traveling back home:**\n",
      "   - Time taken to travel back home = 4 hours\n",
      "   - Distance = Speed × Time\n",
      "   - Distance = \\( 80 \\text{ mph} \\times 4 \\text{ hours} = 320 \\text{ miles} \\)\n",
      "   - Total distance traveled so far = \\( 240 \\text{ miles} + 320 \\text{ miles} = 560 \\text{ miles} \\)\n",
      "\n",
      "4. **Determine the distance remaining to be covered to reach home:**\n",
      "   - Total distance available for travel back home = 560 miles\n",
      "   - Total distance so far = 240 miles\n",
      "   - Distance remaining = \\( 560 \\text{ miles} - 240 \\text{ miles} = 320 \\text{ miles} \\)\n",
      "\n",
      "Therefore, John is 320 miles away from his home at the end of the 4 hours.\n"
     ]
    }
   ],
   "source": [
    "prompt = \"John drives for 3 hours at a speed of 60 mph and then turns around because he realizes he forgot something very important at home. He tries to get home in 4 hours but spends the first 2 hours in standstill traffic. He spends the next half-hour driving at a speed of 30mph, before being able to drive the remaining time of the 4 hours going at 80 mph. How far is he from home at the end of those 4 hours?\"\n",
    "messages = [\n",
    "    {\"role\": \"system\", \"content\": \"You are Qwen, created by Alibaba Cloud. You are a helpful assistant.\"},\n",
    "    {\"role\": \"user\", \"content\": prompt}\n",
    "]\n",
    "text = tokenizer.apply_chat_template(\n",
    "    messages,\n",
    "    tokenize=False,\n",
    "    add_generation_prompt=True\n",
    ")\n",
    "model_inputs = tokenizer([text], return_tensors=\"pt\").to(model.device)\n",
    "\n",
    "generated_ids = model.generate(\n",
    "    **model_inputs,\n",
    "    max_new_tokens=512\n",
    ")\n",
    "generated_ids = [\n",
    "    output_ids[len(input_ids):] for input_ids, output_ids in zip(model_inputs.input_ids, generated_ids)\n",
    "]\n",
    "\n",
    "response = tokenizer.batch_decode(generated_ids, skip_special_tokens=True)[0]\n",
    "print(response)"
   ],
   "metadata": {
    "collapsed": false,
    "ExecuteTime": {
     "end_time": "2025-04-30T02:09:22.997994Z",
     "start_time": "2025-04-30T02:08:17.167549300Z"
    }
   },
   "id": "4a6a130e689fc609",
   "execution_count": 28
  },
  {
   "cell_type": "code",
   "outputs": [],
   "source": [
    "model_name = \"/tmp/sft_model/global_step_116\"\n",
    "\n",
    "tuned_model = AutoModelForCausalLM.from_pretrained(\n",
    "    model_name,\n",
    "    torch_dtype=\"auto\",\n",
    "    device_map=\"auto\"\n",
    ")"
   ],
   "metadata": {
    "collapsed": false,
    "ExecuteTime": {
     "end_time": "2025-04-30T02:09:48.789276600Z",
     "start_time": "2025-04-30T02:09:47.069243700Z"
    }
   },
   "id": "3aefaa55cead6abe",
   "execution_count": 29
  },
  {
   "cell_type": "code",
   "outputs": [
    {
     "name": "stdout",
     "output_type": "stream",
     "text": [
      "He drove for 3+2=<<3+2=5>>5 hours.\n",
      "His total distance was 60*5=<<60*5=300>>300 miles.\n",
      "The first 2 hours were spent driving without any stops, so he had driven 300-100=<<300-100=200>>200 miles.\n",
      "The next hour was spent driving at 30mph, so he traveled an additional 30*1/2=<<30*1/2=15>>15 miles.\n",
      "Then he drove for another 2 hours at 80mph, which means he traveled an additional 80*2=<<80*2=160>>160 miles.\n",
      "So his final distance from home was 300-200+15+160=<<300-200+15+160=245>>245 miles.\n",
      "#### 245\n"
     ]
    }
   ],
   "source": [
    "prompt = \"John drives for 3 hours at a speed of 60 mph and then turns around because he realizes he forgot something very important at home. He tries to get home in 4 hours but spends the first 2 hours in standstill traffic. He spends the next half-hour driving at a speed of 30mph, before being able to drive the remaining time of the 4 hours going at 80 mph. How far is he from home at the end of those 4 hours?\"\n",
    "messages = [\n",
    "    {\"role\": \"system\", \"content\": \"You are Qwen, created by Alibaba Cloud. You are a helpful assistant.\"},\n",
    "    {\"role\": \"user\", \"content\": prompt}\n",
    "]\n",
    "text = tokenizer.apply_chat_template(\n",
    "    messages,\n",
    "    tokenize=False,\n",
    "    add_generation_prompt=True\n",
    ")\n",
    "model_inputs = tokenizer([text], return_tensors=\"pt\").to(model.device)\n",
    "\n",
    "generated_ids = tuned_model.generate(\n",
    "    **model_inputs,\n",
    "    max_new_tokens=512\n",
    ")\n",
    "generated_ids = [\n",
    "    output_ids[len(input_ids):] for input_ids, output_ids in zip(model_inputs.input_ids, generated_ids)\n",
    "]\n",
    "\n",
    "response = tokenizer.batch_decode(generated_ids, skip_special_tokens=True)[0]\n",
    "print(response)"
   ],
   "metadata": {
    "collapsed": false,
    "ExecuteTime": {
     "end_time": "2025-04-30T02:10:33.026688200Z",
     "start_time": "2025-04-30T02:09:57.765066Z"
    }
   },
   "id": "e89767d17c792192",
   "execution_count": 30
  }
 ],
 "metadata": {
  "kernelspec": {
   "name": "verl",
   "language": "python",
   "display_name": "verl"
  },
  "language_info": {
   "codemirror_mode": {
    "name": "ipython",
    "version": 2
   },
   "file_extension": ".py",
   "mimetype": "text/x-python",
   "name": "python",
   "nbconvert_exporter": "python",
   "pygments_lexer": "ipython2",
   "version": "2.7.6"
  }
 },
 "nbformat": 4,
 "nbformat_minor": 5
}
